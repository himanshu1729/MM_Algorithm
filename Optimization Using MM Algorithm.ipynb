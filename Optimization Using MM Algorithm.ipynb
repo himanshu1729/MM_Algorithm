{
 "cells": [
  {
   "cell_type": "code",
   "execution_count": 6,
   "metadata": {},
   "outputs": [],
   "source": [
    "import numpy as np\n",
    "import matplotlib.pyplot as plt\n",
    "from sklearn import datasets"
   ]
  },
  {
   "cell_type": "markdown",
   "metadata": {},
   "source": [
    " ## Problem 1. Minimizing f(x) = cos(x)\n",
    " \n",
    " First we will try to minimize $f(x) = cos (x)$\n",
    " \n",
    " For finding majorizer, use Taylor series expansion around $x_{n}$ as:\n",
    " \n",
    " $$f(x) = cos(x_{n}) - sin(x_{n})(x-x_{n}) + \\frac{1}{2}(x-x_{n})^{2}cos(x_{n})$$\n",
    " \n",
    " But, $ |cos(x)| \\le 1$. So, we can wrIte Majorizer as:\n",
    " \n",
    " $$g(x|x_{n}) = cos(x_{n}) - sin(x_{n})(x-x_{n}) + \\frac{1}{2}(x-x_{n})^{2}$$\n",
    " \n",
    " Diff wrt to $x$ yields following majorizer update:\n",
    "     $$ x_{n+1} = x_{n} + sin(x_{n})$$"
   ]
  },
  {
   "cell_type": "code",
   "execution_count": 8,
   "metadata": {},
   "outputs": [
    {
     "name": "stdout",
     "output_type": "stream",
     "text": [
      "x, cos(x) after 0 iteration: 0.19983341664682816 , 0.9800996592459544\n",
      "x, cos(x) after 1 iteration: 0.39833948190923774 , 0.9217063600781894\n",
      "x, cos(x) after 2 iteration: 0.7862278496020768 , 0.7065198611335216\n",
      "x, cos(x) after 3 iteration: 1.4939210640840792 , 0.07679956543373839\n",
      "x, cos(x) after 4 iteration: 2.4909676160309724 , -0.7957053788362126\n",
      "x, cos(x) after 5 iteration: 3.0966514857940024 , -0.9989903156747445\n",
      "x, cos(x) after 6 iteration: 3.1415775271071915 , -0.9999999998855947\n",
      "x, cos(x) after 7 iteration: 3.1415926535897927 , -1.0\n",
      "x, cos(x) after 8 iteration: 3.141592653589793 , -1.0\n",
      "x, cos(x) after 9 iteration: 3.141592653589793 , -1.0\n"
     ]
    }
   ],
   "source": [
    "x_n = 0.1; ##Notice on taking x_n zero, the objective function doesn't moves\n",
    "for i in range(10):\n",
    "    x_n = x_n + np.sin(x_n)\n",
    "    print(f\"x, cos(x) after {i} iteration: {x_n} , {np.cos(x_n)}\")"
   ]
  },
  {
   "cell_type": "markdown",
   "metadata": {},
   "source": [
    "## Problem 2. Finding Sample Median \n",
    "\n",
    "The sample Median of $y_{1},y_{2},..., y_{n}$ minimizes the objective function\n",
    "\n",
    "$$ f(\\theta) =  \\sum_{i=1}^{n} |y_{i} - \\theta| $$\n",
    "\n",
    "[The majorizer is ](https://www.stat.berkeley.edu/~aldous/Colloq/lange-talk.pdf):\n",
    "\n",
    "$$ h(\\theta | \\theta_{n}) = \\frac{1}{2} \\sum_{i=1}^{n} \\frac{(y_{i} - \\theta)^{2}}{|y_{i} - \\theta_{n}|} +  \\frac{1}{2}|y_{i} - \\theta_{n}| $$\n",
    "\n",
    "Differentiating wrt. to $\\theta$ we find the MM update:\n",
    "\n",
    "$$ \\theta_{n+1} = \\frac{  \\sum_{i=1}^{n} y_{i}w_{in} }{ \\sum_{i=1}^{n} w_{in}} $$\n",
    "\n",
    "where $$w_{in} = \\frac{1}{|y_{i}- \\theta_{n}|}$$\n",
    "\n",
    "Thus, outline of MM algorithm:\n",
    "\n",
    "1) Initialize a feasible value of $ \\theta $\n",
    "\n",
    "Repeat 2,3 for n iterations\n",
    "\n",
    "2) Calculate $w_{in}$ using current $ \\theta $ \n",
    "\n",
    "3) Update $ \\theta $\n",
    "\n"
   ]
  },
  {
   "cell_type": "code",
   "execution_count": 54,
   "metadata": {},
   "outputs": [
    {
     "name": "stdout",
     "output_type": "stream",
     "text": [
      "47.0\n"
     ]
    }
   ],
   "source": [
    "y = np.random.randint(0,100,50)\n",
    "median = np.median(y)\n",
    "print(median)"
   ]
  },
  {
   "cell_type": "code",
   "execution_count": 55,
   "metadata": {},
   "outputs": [
    {
     "name": "stdout",
     "output_type": "stream",
     "text": [
      "Value of Median after 0 iterations: 51.816312331140395, Actual Median 47.0\n",
      "Value of Median after 1 iterations: 51.53167519964499, Actual Median 47.0\n",
      "Value of Median after 2 iterations: 51.153597042437404, Actual Median 47.0\n",
      "Value of Median after 3 iterations: 50.70464479441165, Actual Median 47.0\n",
      "Value of Median after 4 iterations: 50.2120092091944, Actual Median 47.0\n",
      "Value of Median after 5 iterations: 49.707154618388635, Actual Median 47.0\n",
      "Value of Median after 6 iterations: 49.23971977631797, Actual Median 47.0\n",
      "Value of Median after 7 iterations: 48.95494156819848, Actual Median 47.0\n",
      "Value of Median after 8 iterations: 48.854941568198484, Actual Median 47.0\n",
      "Value of Median after 9 iterations: 48.754941568198475, Actual Median 47.0\n",
      "Value of Median after 10 iterations: 48.654941568198474, Actual Median 47.0\n",
      "Value of Median after 11 iterations: 48.55494156819847, Actual Median 47.0\n",
      "Value of Median after 12 iterations: 48.45494156819847, Actual Median 47.0\n",
      "Value of Median after 13 iterations: 48.35494156819848, Actual Median 47.0\n",
      "Value of Median after 14 iterations: 48.25494156819847, Actual Median 47.0\n",
      "Value of Median after 15 iterations: 48.15494156819848, Actual Median 47.0\n",
      "Value of Median after 16 iterations: 48.05494156819848, Actual Median 47.0\n",
      "Value of Median after 17 iterations: 47.954941568198485, Actual Median 47.0\n",
      "Value of Median after 18 iterations: 47.85494156819848, Actual Median 47.0\n",
      "Value of Median after 19 iterations: 47.75494156819848, Actual Median 47.0\n",
      "Value of Median after 20 iterations: 47.65494156819849, Actual Median 47.0\n",
      "Value of Median after 21 iterations: 47.554941568198494, Actual Median 47.0\n",
      "Value of Median after 22 iterations: 47.454941568198485, Actual Median 47.0\n",
      "Value of Median after 23 iterations: 47.35494156819848, Actual Median 47.0\n",
      "Value of Median after 24 iterations: 47.254941568198475, Actual Median 47.0\n"
     ]
    }
   ],
   "source": [
    "## Median Using MM algorithm\n",
    "theta = np.random.choice(y)  ## Randomly select one pivot\n",
    "w_in = np.ones(y.shape[0])  \n",
    "eps =0.1\n",
    "for i in range(25):\n",
    "    w_in = 1/np.abs((y-theta +eps ))\n",
    "    theta =  np.dot(y,w_in)/ np.sum(w_in)\n",
    "    print(f\"Value of Median after {i} iterations: {theta}, Actual Median {median}\")"
   ]
  },
  {
   "cell_type": "code",
   "execution_count": 34,
   "metadata": {},
   "outputs": [
    {
     "data": {
      "text/plain": [
       "102.20135415698844"
      ]
     },
     "execution_count": 34,
     "metadata": {},
     "output_type": "execute_result"
    }
   ],
   "source": [
    "theta"
   ]
  },
  {
   "cell_type": "markdown",
   "metadata": {},
   "source": [
    "## Problem 3. Logistic Regression\n",
    "\n",
    "Following the tutorial on [Logistic Regression](http://www.haowulab.org/teaching/statcomp/Notes/Lecture5_MM.pdf):\n",
    "\n",
    "We get MM algorithm for weight update as:\n",
    "    $$ \\theta_{k+1} = \\theta_{k}  - 4(X^{T}X)^{-1}X^T(Y- \\pi(\\theta_{k})) $$\n",
    "\n",
    "where\n",
    "     $$ \\pi(\\theta_{k}) =  \\Bigg[ \\frac{exp(\\theta_{k}^{T}x_{1})}{1+ exp(\\theta_{k}^{T}x_{1})} , \\frac{exp(\\theta_{k}^{T}x_{2})}{1+ exp(\\theta_{k}^{T}x_{2})} ..... \\frac{exp(\\theta_{k}^{T}x_{n})}{1+ exp(\\theta_{k}^{T}x_{n})} \\Bigg]^{T} $$\n",
    "\n",
    "Note Here X is matrix with columns of extra ones"
   ]
  },
  {
   "cell_type": "code",
   "execution_count": 3,
   "metadata": {},
   "outputs": [],
   "source": [
    "iris = datasets.load_iris()"
   ]
  },
  {
   "cell_type": "code",
   "execution_count": 925,
   "metadata": {},
   "outputs": [],
   "source": [
    "iris_labels = iris.target"
   ]
  },
  {
   "cell_type": "code",
   "execution_count": 926,
   "metadata": {},
   "outputs": [],
   "source": [
    "## Take only the last two classes\n",
    "from sklearn.model_selection import train_test_split\n",
    "\n",
    "## These two will be used by SKlearn \n",
    "iris_data = iris.data[iris_labels != 2]\n",
    "iris_labels = iris.target[iris_labels != 2]"
   ]
  },
  {
   "cell_type": "code",
   "execution_count": 927,
   "metadata": {},
   "outputs": [
    {
     "data": {
      "text/plain": [
       "((70, 4), (70,))"
      ]
     },
     "execution_count": 927,
     "metadata": {},
     "output_type": "execute_result"
    }
   ],
   "source": [
    "## X,Y will be used by MM Algorithm\n",
    "\n",
    "X =  np.append(np.ones((iris_data.shape[0],1)), iris_data, axis = 1)\n",
    "Y =  iris_labels.copy()\n",
    "#Y[Y==2] = 0\n",
    "#iris_labels[iris_labels==2] = 0\n",
    "\n",
    "\n",
    "X_train, X_test, Y_train, Y_test = train_test_split(X, Y, test_size=0.3)\n",
    "iris_train,iris_test,iris_label_train,iris_label_test = train_test_split(iris_data,iris_labels, test_size = 0.3)\n",
    "\n",
    "\n",
    "X_train.shape,Y_train.shape\n",
    "iris_train.shape, iris_label_train.shape"
   ]
  },
  {
   "cell_type": "code",
   "execution_count": 928,
   "metadata": {},
   "outputs": [
    {
     "name": "stdout",
     "output_type": "stream",
     "text": [
      "(5,) (5, 5) (70,)\n"
     ]
    }
   ],
   "source": [
    "## MM Algorithm\n",
    "theta = np.zeros(5)\n",
    "pi_theta = np.ones(Y_train.shape[0])\n",
    "XtX_inv = np.linalg.inv(np.matmul(X_train.T,X_train))\n",
    "print(theta.shape,XtX_inv.shape,pi_theta.shape)\n",
    "\n",
    "for i in range(20):\n",
    "    exp =  np.exp(np.dot(X_train,theta))\n",
    "    pi_theta = exp/(1+exp)\n",
    "    a = np.matmul(XtX_inv,X_train.T)\n",
    "    theta += 4*np.dot(a, (Y_train-pi_theta))"
   ]
  },
  {
   "cell_type": "code",
   "execution_count": 929,
   "metadata": {},
   "outputs": [
    {
     "data": {
      "text/plain": [
       "array([ 1.3794893 , -0.40914724, -2.00538376,  1.61878009,  3.14286183])"
      ]
     },
     "execution_count": 929,
     "metadata": {},
     "output_type": "execute_result"
    }
   ],
   "source": [
    "theta"
   ]
  },
  {
   "cell_type": "code",
   "execution_count": 930,
   "metadata": {},
   "outputs": [],
   "source": [
    "exp =  np.exp(np.dot(X_test,theta))\n",
    "predict =  exp/(1+exp)\n",
    "predict[predict > 0.5] = 1\n",
    "predict[predict <0.5] = 0"
   ]
  },
  {
   "cell_type": "code",
   "execution_count": 931,
   "metadata": {},
   "outputs": [
    {
     "data": {
      "text/plain": [
       "1.0"
      ]
     },
     "execution_count": 931,
     "metadata": {},
     "output_type": "execute_result"
    }
   ],
   "source": [
    "sum(predict == Y_test)/len(Y_test)"
   ]
  },
  {
   "cell_type": "code",
   "execution_count": 932,
   "metadata": {},
   "outputs": [],
   "source": [
    "## Comparison to Logistic Regression of Scikitlearn"
   ]
  },
  {
   "cell_type": "code",
   "execution_count": 933,
   "metadata": {},
   "outputs": [],
   "source": [
    "from sklearn.linear_model import LogisticRegression"
   ]
  },
  {
   "cell_type": "code",
   "execution_count": 934,
   "metadata": {},
   "outputs": [],
   "source": [
    "clf = LogisticRegression().fit(iris_train,iris_label_train)"
   ]
  },
  {
   "cell_type": "code",
   "execution_count": 935,
   "metadata": {},
   "outputs": [
    {
     "data": {
      "text/plain": [
       "1.0"
      ]
     },
     "execution_count": 935,
     "metadata": {},
     "output_type": "execute_result"
    }
   ],
   "source": [
    "clf.score(iris_test,iris_label_test)"
   ]
  },
  {
   "cell_type": "code",
   "execution_count": 936,
   "metadata": {},
   "outputs": [
    {
     "data": {
      "text/plain": [
       "array([[-0.39044603, -1.35209888,  2.05327357,  0.88467823]])"
      ]
     },
     "execution_count": 936,
     "metadata": {},
     "output_type": "execute_result"
    }
   ],
   "source": [
    "clf.coef_"
   ]
  },
  {
   "cell_type": "code",
   "execution_count": 938,
   "metadata": {},
   "outputs": [
    {
     "data": {
      "text/plain": [
       "array([-0.26237747])"
      ]
     },
     "execution_count": 938,
     "metadata": {},
     "output_type": "execute_result"
    }
   ],
   "source": [
    "clf.intercept_"
   ]
  },
  {
   "cell_type": "markdown",
   "metadata": {},
   "source": [
    "## Problem 4 Support Vector Machine with Hinge Loss\n",
    "\n",
    "The SVM with hinge loss is given by:\n",
    "\n",
    "Carrying out further update as in Homework 2, we get update:\n",
    "\n",
    "$$ w^{k+1} = \\frac{C}{2} \\big( I_{\\alpha} + \\frac{C}{2} \\sum_{i=1}^{n} \\frac{x_{i}x_{i}^{T}}{u_{i}} \\big)^{-1} \\big( \\sum_{i=1}^{n}  x_{i} y_{i}  \\frac{(1+u_{i})}{u_{i}} \\big)$$\n",
    "\n",
    "\n",
    "where m = dimension of w wihout appending for bias\n",
    "\n",
    "   \n",
    "   $$ I_d = diag[1,1,1,1,1..(m \\; times)...., 0] $$\n",
    "   $$ u_{i} = \\big| 1 - y_{i}(w^{k})^{T} x_{i}) \\big|$$"
   ]
  },
  {
   "cell_type": "code",
   "execution_count": 7,
   "metadata": {},
   "outputs": [],
   "source": [
    "iris = datasets.load_iris()"
   ]
  },
  {
   "cell_type": "code",
   "execution_count": 8,
   "metadata": {},
   "outputs": [],
   "source": [
    "iris_labels = iris.target"
   ]
  },
  {
   "cell_type": "code",
   "execution_count": 9,
   "metadata": {},
   "outputs": [
    {
     "name": "stdout",
     "output_type": "stream",
     "text": [
      "(100, 5)\n",
      "(100,)\n"
     ]
    }
   ],
   "source": [
    "iris_data = iris.data[iris_labels != 1]\n",
    "iris_labels = iris.target[iris_labels != 1]\n",
    "X =  np.append(np.ones((iris_data.shape[0],1)), iris_data,axis = 1)\n",
    "Y =  iris_labels.copy()\n",
    "Y[Y==0]= 1\n",
    "iris_labels[iris_labels==0] = 1\n",
    "Y[Y==2] = -1\n",
    "iris_labels[iris_labels==2] = -1\n",
    "print(X.shape)\n",
    "print(Y.shape)"
   ]
  },
  {
   "cell_type": "code",
   "execution_count": 10,
   "metadata": {},
   "outputs": [],
   "source": [
    "C = 2"
   ]
  },
  {
   "cell_type": "code",
   "execution_count": 11,
   "metadata": {},
   "outputs": [],
   "source": [
    "def calculate_loss(w,X,Y,C):\n",
    "    l = 0\n",
    "    l += 0.5*np.dot(w[0:-1],w[0:-1])\n",
    "    p = 1-np.matmul(X,w)*Y\n",
    "    p[p<0] = 0\n",
    "    l += C*sum(p)\n",
    "    return l\n",
    "    "
   ]
  },
  {
   "cell_type": "markdown",
   "metadata": {},
   "source": [
    "### MM Algorithm"
   ]
  },
  {
   "cell_type": "code",
   "execution_count": 17,
   "metadata": {},
   "outputs": [],
   "source": [
    "\n",
    "w = np.random.rand(5) ## one extra\n",
    "u_t = np.zeros(X.shape[0])\n",
    "C = C/2\n",
    "eps = 1e-8\n",
    "\n",
    "\n",
    "I = np.eye(5)\n",
    "I[4][4] = 0\n",
    "\n",
    "loss = []\n",
    "loss.append(calculate_loss(w,X,Y,2*C))\n",
    "\n",
    "for i in range(50):\n",
    "    u_t = np.abs(1- Y*np.matmul(X,w))\n",
    "    u_t[u_t < eps] = eps\n",
    "    p_t = 1/u_t\n",
    "    \n",
    "    xtx = np.zeros((5,5))\n",
    "    for i in range(100):\n",
    "        xtx += np.outer(X[i],X[i])*p_t[i]\n",
    "\n",
    "    xtx = np.linalg.inv(I + C*xtx)\n",
    "    \n",
    "    xty = np.zeros(5)\n",
    "    for i in range(X.shape[0]):\n",
    "        xty += X[i]*Y[i]*(1+u_t[i])*p_t[i]\n",
    "    \n",
    "    xty = C*xty\n",
    "    \n",
    "    \n",
    "    w = np.matmul(xtx, xty)\n",
    "    l = calculate_loss(w,X,Y,eps)\n",
    "    loss.append(l) ##Note at top we have divided C by 2"
   ]
  },
  {
   "cell_type": "code",
   "execution_count": 18,
   "metadata": {},
   "outputs": [
    {
     "data": {
      "text/plain": [
       "array([ 0.16772166,  0.74470814,  0.61371842,  0.02880505, -8.47560827])"
      ]
     },
     "execution_count": 18,
     "metadata": {},
     "output_type": "execute_result"
    }
   ],
   "source": [
    "w"
   ]
  },
  {
   "cell_type": "code",
   "execution_count": 19,
   "metadata": {},
   "outputs": [
    {
     "data": {
      "text/plain": [
       "[283.560448792403,\n",
       " 2.0357017897258665,\n",
       " 1.179524412329464,\n",
       " 0.9809238181471394,\n",
       " 0.9162948408693476,\n",
       " 0.8832166957688751,\n",
       " 0.8586213229700801,\n",
       " 0.8368992544043192,\n",
       " 0.8165976986339393,\n",
       " 0.7973045150520421,\n",
       " 0.7788783384727784,\n",
       " 0.761251655701456,\n",
       " 0.7443792035798761,\n",
       " 0.7282241983335807,\n",
       " 0.7127546227583273,\n",
       " 0.6979422623613951,\n",
       " 0.6837625515933823,\n",
       " 0.6701947270798794,\n",
       " 0.6572221786448096,\n",
       " 0.6448330038199923,\n",
       " 0.633020809039306,\n",
       " 0.6217858072387636,\n",
       " 0.6111362285580713,\n",
       " 0.6010899362351965,\n",
       " 0.5916758074545119,\n",
       " 0.582933705469718,\n",
       " 0.5749105918087324,\n",
       " 0.5676490381295859,\n",
       " 0.5611656522370522,\n",
       " 0.5554250950907593,\n",
       " 0.5503282702364204,\n",
       " 0.5457319637864937,\n",
       " 0.5414900758607673,\n",
       " 0.5374861477357555,\n",
       " 0.5336418407973595,\n",
       " 0.5299094009304228,\n",
       " 0.5262607585744281,\n",
       " 0.5226792599153356,\n",
       " 0.5191546797959411,\n",
       " 0.5156804750593467,\n",
       " 0.5122522906353604,\n",
       " 0.508867120527187,\n",
       " 0.5055228047417822,\n",
       " 0.5022177754098072,\n",
       " 0.4989507571207503,\n",
       " 0.4957207925271568,\n",
       " 0.49252701409623695,\n",
       " 0.48936872376641766,\n",
       " 0.4862452432874035,\n",
       " 0.4831559915967181,\n",
       " 0.48010040259618186]"
      ]
     },
     "execution_count": 19,
     "metadata": {},
     "output_type": "execute_result"
    }
   ],
   "source": [
    "loss"
   ]
  },
  {
   "cell_type": "code",
   "execution_count": 20,
   "metadata": {},
   "outputs": [
    {
     "data": {
      "text/plain": [
       "[<matplotlib.lines.Line2D at 0x1f626627be0>]"
      ]
     },
     "execution_count": 20,
     "metadata": {},
     "output_type": "execute_result"
    },
    {
     "data": {
      "image/png": "[encoded data removed]",
      "text/plain": [
       "<Figure size 432x288 with 1 Axes>"
      ]
     },
     "metadata": {},
     "output_type": "display_data"
    }
   ],
   "source": [
    "plt.plot(loss)"
   ]
  },
  {
   "cell_type": "code",
   "execution_count": 21,
   "metadata": {},
   "outputs": [],
   "source": [
    "predict =  np.dot(X,w)\n",
    "predict[predict >= 0] = 1\n",
    "predict[predict <0] = -1"
   ]
  },
  {
   "cell_type": "code",
   "execution_count": 22,
   "metadata": {},
   "outputs": [
    {
     "data": {
      "text/plain": [
       "100"
      ]
     },
     "execution_count": 22,
     "metadata": {},
     "output_type": "execute_result"
    }
   ],
   "source": [
    "sum(predict == Y)"
   ]
  },
  {
   "cell_type": "code",
   "execution_count": 23,
   "metadata": {},
   "outputs": [
    {
     "data": {
      "text/plain": [
       "array([ 0.16772166,  0.74470814,  0.61371842,  0.02880505, -8.47560827])"
      ]
     },
     "execution_count": 23,
     "metadata": {},
     "output_type": "execute_result"
    }
   ],
   "source": [
    "w"
   ]
  },
  {
   "cell_type": "code",
   "execution_count": null,
   "metadata": {},
   "outputs": [],
   "source": []
  },
  {
   "cell_type": "code",
   "execution_count": null,
   "metadata": {},
   "outputs": [],
   "source": []
  }
 ],
 "metadata": {
  "kernelspec": {
   "display_name": "Python 3",
   "language": "python",
   "name": "python3"
  },
  "language_info": {
   "codemirror_mode": {
    "name": "ipython",
    "version": 3
   },
   "file_extension": ".py",
   "mimetype": "text/x-python",
   "name": "python",
   "nbconvert_exporter": "python",
   "pygments_lexer": "ipython3",
   "version": "3.6.5"
  }
 },
 "nbformat": 4,
 "nbformat_minor": 2
}
